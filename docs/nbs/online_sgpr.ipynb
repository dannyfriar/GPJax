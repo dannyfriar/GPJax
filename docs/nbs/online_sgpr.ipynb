{
 "cells": [
  {
   "cell_type": "markdown",
   "id": "e1fb7ff8",
   "metadata": {},
   "source": [
    "# Online SGPR.\n",
    "\n",
    "OSGPR - Bui et al 2017."
   ]
  },
  {
   "cell_type": "code",
   "execution_count": null,
   "id": "a43fe896",
   "metadata": {},
   "outputs": [],
   "source": [
    "%load_ext autoreload\n",
    "%autoreload 2"
   ]
  },
  {
   "cell_type": "code",
   "execution_count": null,
   "id": "d5822c74",
   "metadata": {},
   "outputs": [],
   "source": [
    "import jax.numpy as jnp\n",
    "import jax.random as jr\n",
    "import matplotlib.pyplot as plt\n",
    "from jax import jit\n",
    "import optax as ox\n",
    "\n",
    "import gpjax as gpx\n",
    "import tensorflow as tf\n",
    "\n",
    "tf.random.set_seed(42)\n",
    "key = jr.PRNGKey(123)"
   ]
  },
  {
   "cell_type": "markdown",
   "id": "e9ec4ffe",
   "metadata": {},
   "source": [
    "## Dataset\n",
    "\n",
    "With the necessary modules imported, we simulate a dataset $\\mathcal{D} = (\\boldsymbol{x}, \\boldsymbol{y}) = \\{(x_i, y_i)\\}_{i=1}^{5000}$ with inputs $\\boldsymbol{x}$ sampled uniformly on $(-5, 5)$ and corresponding binary outputs\n",
    "\n",
    "$$\\boldsymbol{y} \\sim \\mathcal{N} \\left(\\sin(4 * \\boldsymbol{x}) + \\sin(2 * \\boldsymbol{x}), \\textbf{I} * (0.2)^{2} \\right).$$\n",
    "\n",
    "We store our data $\\mathcal{D}$ as a GPJax `Dataset` and create test inputs for later."
   ]
  },
  {
   "cell_type": "code",
   "execution_count": null,
   "id": "6ed39b24",
   "metadata": {
    "lines_to_next_cell": 0
   },
   "outputs": [],
   "source": [
    "n = 5000\n",
    "noise = 0.2\n",
    "\n",
    "x = jr.uniform(key=key, minval=-5.0, maxval=5.0, shape=(n,)).sort().reshape(-1, 1)\n",
    "f = lambda x: jnp.sin(4 * x) + jnp.cos(2 * x)\n",
    "signal = f(x)\n",
    "y = signal + jr.normal(key, shape=signal.shape) * noise\n",
    "\n",
    "D1 = gpx.Dataset(X=x[:2500], y=y[:2500])\n",
    "D2 = gpx.Dataset(X=x[2500:2600], y=y[2500:2600])\n",
    "\n",
    "xtest = jnp.linspace(-5.5, 5.5, 500).reshape(-1, 1)"
   ]
  },
  {
   "cell_type": "code",
   "execution_count": null,
   "id": "408de182",
   "metadata": {
    "lines_to_next_cell": 0
   },
   "outputs": [],
   "source": [
    "z_1 = jnp.linspace(-5.0, 5.0, 100).reshape(-1, 1)\n",
    "z_2 = jnp.linspace(-5.0, 5.0, 100).reshape(-1, 1)\n",
    "\n",
    "fig, ax = plt.subplots(figsize=(12, 5))\n",
    "ax.plot(x, y, \"o\", alpha=0.3)\n",
    "ax.plot(xtest, f(xtest))\n",
    "[ax.axvline(x=z_i, color=\"black\", alpha=0.3, linewidth=1) for z_i in z_1]\n",
    "plt.show()"
   ]
  },
  {
   "cell_type": "code",
   "execution_count": null,
   "id": "5634e153",
   "metadata": {
    "lines_to_next_cell": 0
   },
   "outputs": [],
   "source": [
    "likelihood = gpx.Gaussian(num_datapoints=n)\n",
    "prior = gpx.Prior(kernel=gpx.RBF())\n",
    "p =  prior * likelihood\n",
    "q1 = gpx.VariationalGaussian(prior=prior, inducing_inputs=z_1)"
   ]
  },
  {
   "cell_type": "code",
   "execution_count": null,
   "id": "722e95b7",
   "metadata": {},
   "outputs": [],
   "source": [
    "svgp = gpx.StochasticVI(posterior=p, variational_family=q1)"
   ]
  },
  {
   "cell_type": "code",
   "execution_count": null,
   "id": "5406eeb2",
   "metadata": {},
   "outputs": [],
   "source": [
    "params, trainables, constrainers, unconstrainers = gpx.initialise(svgp)\n",
    "params = gpx.transform(params, unconstrainers)\n",
    "\n",
    "loss_fn = jit(svgp.elbo(D1, constrainers, negative=True))"
   ]
  },
  {
   "cell_type": "code",
   "execution_count": null,
   "id": "c985c68a",
   "metadata": {
    "lines_to_next_cell": 0
   },
   "outputs": [],
   "source": [
    "Dbatched = D1.cache().repeat().shuffle(D1.n).batch(batch_size=100).prefetch(buffer_size=1)\n",
    "\n",
    "optimiser = ox.adam(learning_rate=0.001)\n",
    "\n",
    "learned_params = gpx.fit_batches(\n",
    "    objective = loss_fn,\n",
    "    params = params,\n",
    "    trainables = trainables,\n",
    "    train_data = Dbatched, \n",
    "    optax_optim = optimiser,\n",
    "    n_iters=10000,\n",
    ")\n",
    "\n",
    "learned_params = gpx.transform(learned_params, constrainers)"
   ]
  },
  {
   "cell_type": "markdown",
   "id": "61fe35d1",
   "metadata": {},
   "source": [
    "## Predictions q1"
   ]
  },
  {
   "cell_type": "code",
   "execution_count": null,
   "id": "ee6beb66",
   "metadata": {},
   "outputs": [],
   "source": [
    "latent_dist = q1(learned_params)(xtest)\n",
    "predictive_dist = likelihood(latent_dist, learned_params)\n",
    "\n",
    "meanf = predictive_dist.mean()\n",
    "sigma = predictive_dist.stddev()\n",
    "\n",
    "fig, ax = plt.subplots(figsize=(12, 5))\n",
    "ax.plot(x, y, \"o\", alpha=0.15, label=\"Training Data\", color=\"tab:gray\")\n",
    "ax.plot(xtest, meanf, label=\"Posterior mean\", color=\"tab:blue\")\n",
    "ax.fill_between(xtest.flatten(), meanf - sigma, meanf + sigma, alpha=0.3)\n",
    "[\n",
    "    ax.axvline(x=z_i, color=\"black\", alpha=0.3, linewidth=1)\n",
    "    for z_i in learned_params[\"variational_family\"][\"inducing_inputs\"]\n",
    "]\n",
    "plt.show()"
   ]
  },
  {
   "cell_type": "markdown",
   "id": "594417cb",
   "metadata": {},
   "source": [
    "# OSGPR"
   ]
  },
  {
   "cell_type": "code",
   "execution_count": null,
   "id": "f9fdb94e",
   "metadata": {},
   "outputs": [],
   "source": [
    "q2 = gpx.VariationalGaussian(prior=prior, inducing_inputs=z_2)"
   ]
  },
  {
   "cell_type": "code",
   "execution_count": null,
   "id": "cf4b906f",
   "metadata": {},
   "outputs": [],
   "source": [
    "osgpr = gpx.variational_inference.OSGPR(posterior=p, variational_family_old = q1, variational_family=q2, params_old = learned_params)"
   ]
  },
  {
   "cell_type": "code",
   "execution_count": null,
   "id": "0c670443",
   "metadata": {},
   "outputs": [],
   "source": [
    "params, trainables, constrainers, unconstrainers = gpx.initialise(osgpr)\n",
    "params = gpx.transform(params, unconstrainers)\n",
    "\n",
    "loss_fn = jit(osgpr.elbo(constrainers, negative=False))"
   ]
  },
  {
   "cell_type": "code",
   "execution_count": null,
   "id": "6cfacb04",
   "metadata": {},
   "outputs": [],
   "source": [
    "D2 = gpx.Dataset(X=x[2500:2600], y=y[2500:2600])\n",
    "loss_fn(params, D2)"
   ]
  },
  {
   "cell_type": "code",
   "execution_count": null,
   "id": "f0339cac",
   "metadata": {},
   "outputs": [],
   "source": [
    "D2 = gpx.Dataset(X=x[2500:2600], y=y[2500:2600])\n",
    "Dbatched = D2.cache().repeat().shuffle(D2.n).batch(batch_size=100).prefetch(buffer_size=1)\n",
    "\n",
    "optimiser = ox.adam(learning_rate=0.001)\n",
    "\n",
    "learned_params_new = gpx.fit_batches(\n",
    "    objective = loss_fn,\n",
    "    params = params,\n",
    "    trainables = trainables,\n",
    "    train_data = Dbatched, \n",
    "    optax_optim = optimiser,\n",
    "    n_iters=1000,\n",
    ")\n",
    "\n",
    "learned_params_new = gpx.transform(learned_params_new, constrainers)"
   ]
  },
  {
   "cell_type": "code",
   "execution_count": null,
   "id": "a383e502",
   "metadata": {},
   "outputs": [],
   "source": [
    "latent_dist = q2(learned_params_new)(xtest)\n",
    "predictive_dist = likelihood(latent_dist, learned_params)\n",
    "\n",
    "meanf = predictive_dist.mean()\n",
    "sigma = predictive_dist.stddev()\n",
    "\n",
    "fig, ax = plt.subplots(figsize=(12, 5))\n",
    "ax.plot(x, y, \"o\", alpha=0.15, label=\"Training Data\", color=\"tab:gray\")\n",
    "ax.plot(xtest, meanf, label=\"Posterior mean\", color=\"tab:blue\")\n",
    "ax.fill_between(xtest.flatten(), meanf - sigma, meanf + sigma, alpha=0.3)\n",
    "[\n",
    "    ax.axvline(x=z_i, color=\"black\", alpha=0.3, linewidth=1)\n",
    "    for z_i in learned_params[\"variational_family\"][\"inducing_inputs\"]\n",
    "]\n",
    "plt.show()"
   ]
  },
  {
   "cell_type": "markdown",
   "id": "52130aed",
   "metadata": {},
   "source": [
    "## System configuration"
   ]
  },
  {
   "cell_type": "code",
   "execution_count": null,
   "id": "94230927",
   "metadata": {},
   "outputs": [],
   "source": [
    "%reload_ext watermark\n",
    "%watermark -n -u -v -iv -w -a 'Daniel Dodd'"
   ]
  }
 ],
 "metadata": {
  "jupytext": {
   "custom_cell_magics": "kql"
  },
  "kernelspec": {
   "display_name": "Python 3.9.7 ('base')",
   "language": "python",
   "name": "python3"
  },
  "language_info": {
   "codemirror_mode": {
    "name": "ipython",
    "version": 3
   },
   "file_extension": ".py",
   "mimetype": "text/x-python",
   "name": "python",
   "nbconvert_exporter": "python",
   "pygments_lexer": "ipython3",
   "version": "3.9.7"
  },
  "vscode": {
   "interpreter": {
    "hash": "7eb1cfec58eecaa2e5422163254bd25a3275ed109df9a51c3c95d775723db6f0"
   }
  }
 },
 "nbformat": 4,
 "nbformat_minor": 5
}
